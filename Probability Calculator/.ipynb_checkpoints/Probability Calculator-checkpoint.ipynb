{
 "cells": [
  {
   "cell_type": "code",
   "execution_count": 145,
   "id": "bd00aa94",
   "metadata": {},
   "outputs": [],
   "source": [
    "'''\n",
    "https://www.freecodecamp.org/learn/scientific-computing-with-python/scientific-computing-with-python-projects/probability-calculator\n",
    "'''\n",
    "import random\n",
    "import copy\n",
    "random.seed(95)\n",
    "\n",
    "class Hat:\n",
    "    def __init__(self, **kwargs):\n",
    "        self.contents = []\n",
    "        for color, value in kwargs.items():\n",
    "            for _ in range(value):\n",
    "                self.contents.append(color)\n",
    "                \n",
    "    def draw(self, n): \n",
    "        if n > len(self.contents):\n",
    "            todraw = self.contents.copy()\n",
    "            self.contents = []\n",
    "            return todraw\n",
    "        todraw = random.sample(self.contents, n)\n",
    "        for elm in todraw:\n",
    "            self.contents.remove(elm)\n",
    "        return todraw"
   ]
  },
  {
   "cell_type": "code",
   "execution_count": 146,
   "id": "58941a64",
   "metadata": {},
   "outputs": [],
   "source": [
    "def experiment(hat = None, expected_balls={}, num_balls_drawn = 0, num_experiments = 0):\n",
    "    cpt = 0\n",
    "    for _ in range(num_experiments):\n",
    "        hat_experiment = copy.deepcopy(hat)\n",
    "        #print(hat_experiment.contents)\n",
    "        drawed = hat_experiment.draw(num_balls_drawn)\n",
    "        mismatch = False\n",
    "        for color, value in expected_balls.items():\n",
    "            if drawed.count(color) < value:\n",
    "                mismatch = True\n",
    "                break\n",
    "        if mismatch == False: cpt+=1\n",
    "        \n",
    "    return cpt/num_experiments"
   ]
  }
 ],
 "metadata": {
  "kernelspec": {
   "display_name": "Python 3",
   "language": "python",
   "name": "python3"
  },
  "language_info": {
   "codemirror_mode": {
    "name": "ipython",
    "version": 3
   },
   "file_extension": ".py",
   "mimetype": "text/x-python",
   "name": "python",
   "nbconvert_exporter": "python",
   "pygments_lexer": "ipython3",
   "version": "3.8.8"
  }
 },
 "nbformat": 4,
 "nbformat_minor": 5
}
