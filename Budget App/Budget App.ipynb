{
 "cells": [
  {
   "cell_type": "code",
   "execution_count": 287,
   "id": "60a0e24f",
   "metadata": {},
   "outputs": [],
   "source": [
    "\"\"\"\n",
    "https://www.freecodecamp.org/learn/scientific-computing-with-python/scientific-computing-with-python-projects/budget-app\n",
    "\"\"\"\n",
    "class Category:\n",
    "    #name =''\n",
    "    #ledger = []\n",
    "    #balance = 0\n",
    "    #withdraws = 0\n",
    "    def __init__(self, name):\n",
    "        self.name = name\n",
    "        self.ledger = []\n",
    "        self.balance = 0\n",
    "        self.withdraws = 0\n",
    "        \n",
    "    def __str__(self):\n",
    "        remaining = 30 - len(self.name)\n",
    "        stars1 = '*' * (remaining // 2)\n",
    "        stars2 = '*' * (remaining - len(stars1))\n",
    "        presentation = stars1 + self.name + stars2+'\\n'\n",
    "        content = ''\n",
    "        for obj in self.ledger:\n",
    "            content = content + obj['description'][:23].ljust(23) + \"{:.2f}\".format(obj['amount']).rjust(7)+'\\n'\n",
    "        total = 'Total: '+\"{:.2f}\".format(self.balance)\n",
    "        return presentation + content + total\n",
    "        \n",
    "    def deposit(self, amount, description=\"\"):\n",
    "        self.ledger.append({\n",
    "            \"amount\": amount,\n",
    "            \"description\": description\n",
    "        })\n",
    "        self.balance += amount\n",
    "        \n",
    "    def withdraw(self, amount, description=\"\"):\n",
    "        if self.check_funds(amount) :\n",
    "            #print('hallo')\n",
    "            self.ledger.append({\n",
    "                \"amount\": - amount,\n",
    "                \"description\": description\n",
    "            })\n",
    "            self.balance -= amount\n",
    "            self.withdraws += amount\n",
    "            return True\n",
    "        return False\n",
    "            \n",
    "    def get_balance(self):\n",
    "        return self.balance\n",
    "    \n",
    "    def transfer(self, amount, budgetCategory):\n",
    "        if self.check_funds(amount) :\n",
    "            self.withdraw(amount, \"Transfer to \" + budgetCategory.name)\n",
    "            budgetCategory.deposit(amount, \"Transfer from \" + self.name)\n",
    "            return True\n",
    "        return False\n",
    "    \n",
    "    def check_funds(self, amount):\n",
    "        if amount > self.balance: return False\n",
    "        return True      "
   ]
  },
  {
   "cell_type": "code",
   "execution_count": 289,
   "id": "1c20038c",
   "metadata": {},
   "outputs": [
    {
     "name": "stdout",
     "output_type": "stream",
     "text": [
      "*************Food*************\n",
      "deposit                 900.00\n",
      "milk, cereal, eggs, bac -45.67\n",
      "Transfer to Entertainem -20.00\n",
      "Total: 834.33\n"
     ]
    }
   ],
   "source": [
    "food = Category('Food')\n",
    "entertainment = Category('Entertainement')\n",
    "food.deposit(900, \"deposit\")\n",
    "food.withdraw(45.67, \"milk, cereal, eggs, bacon, bread\")\n",
    "food.transfer(20, entertainment)\n",
    "actual = str(food)\n",
    "print(actual)"
   ]
  },
  {
   "cell_type": "code",
   "execution_count": 291,
   "id": "b9a6191f",
   "metadata": {},
   "outputs": [
    {
     "data": {
      "text/plain": [
       "True"
      ]
     },
     "execution_count": 291,
     "metadata": {},
     "output_type": "execute_result"
    }
   ],
   "source": [
    "food = Category('Food')\n",
    "entertainment = Category('Entertainement')\n",
    "business = Category('Business')\n",
    "\n",
    "food.deposit(900, \"deposit\")\n",
    "entertainment.deposit(900, \"deposit\")\n",
    "business.deposit(900, \"deposit\")\n",
    "\n",
    "food.withdraw(105.55)\n",
    "entertainment.withdraw(33.40)\n",
    "business.withdraw(10.99)"
   ]
  },
  {
   "cell_type": "code",
   "execution_count": 305,
   "id": "1b7cea79",
   "metadata": {},
   "outputs": [],
   "source": [
    "import math \n",
    "def create_spend_chart(categories):\n",
    "    tab = []\n",
    "    summ = 0\n",
    "    for budgetCategory in categories:\n",
    "        summ += budgetCategory.withdraws\n",
    "        tab.append((budgetCategory.name, budgetCategory.withdraws))\n",
    "    max_values = list(map(lambda elm: math.floor(10*elm[1]/summ)*10, tab))\n",
    "    \n",
    "    title = 'Percentage spent by category\\n'\n",
    "    check = ' o '\n",
    "    graph = ''\n",
    "    for grad in range(100,-10,-10):\n",
    "        graph = graph + str(grad).rjust(3)+'|'\n",
    "        for max_value in max_values :\n",
    "            if max_value >= grad: graph = graph + check\n",
    "            else : graph = graph + '   ' # 3 spaces\n",
    "            \n",
    "        graph = graph + ' \\n'\n",
    "    \n",
    "    graph = graph + '    ----------\\n'\n",
    "    \n",
    "    names = list(map(lambda elm: elm[0], tab))\n",
    "    lenMaxNames = max(list(map(lambda cat: len(cat), names)))\n",
    "    for i in range(len(names)):\n",
    "        names[i] = names[i].ljust(lenMaxNames)\n",
    "    for i in range(lenMaxNames):\n",
    "        graph = graph + '    ' # 4 spaces\n",
    "        for name in names:\n",
    "            graph = graph + ' ' + name[i]+ ' '\n",
    "        if i < lenMaxNames-1 : graph = graph + ' \\n'\n",
    "        else: graph = graph + ' '\n",
    "    \n",
    "    return title + graph"
   ]
  },
  {
   "cell_type": "code",
   "execution_count": 306,
   "id": "3b605577",
   "metadata": {},
   "outputs": [
    {
     "name": "stdout",
     "output_type": "stream",
     "text": [
      "Percentage spent by category\n",
      "100|          \n",
      " 90|          \n",
      " 80|          \n",
      " 70|    o     \n",
      " 60|    o     \n",
      " 50|    o     \n",
      " 40|    o     \n",
      " 30|    o     \n",
      " 20|    o  o  \n",
      " 10|    o  o  \n",
      "  0| o  o  o  \n",
      "    ----------\n",
      "     B  F  E  \n",
      "     u  o  n  \n",
      "     s  o  t  \n",
      "     i  d  e  \n",
      "     n     r  \n",
      "     e     t  \n",
      "     s     a  \n",
      "     s     i  \n",
      "           n  \n",
      "           e  \n",
      "           m  \n",
      "           e  \n",
      "           n  \n",
      "           t  \n"
     ]
    }
   ],
   "source": [
    "print(create_spend_chart([business, food, entertainment]))"
   ]
  }
 ],
 "metadata": {
  "kernelspec": {
   "display_name": "Python 3",
   "language": "python",
   "name": "python3"
  },
  "language_info": {
   "codemirror_mode": {
    "name": "ipython",
    "version": 3
   },
   "file_extension": ".py",
   "mimetype": "text/x-python",
   "name": "python",
   "nbconvert_exporter": "python",
   "pygments_lexer": "ipython3",
   "version": "3.8.8"
  }
 },
 "nbformat": 4,
 "nbformat_minor": 5
}
