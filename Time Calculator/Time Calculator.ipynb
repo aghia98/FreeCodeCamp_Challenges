{
 "cells": [
  {
   "cell_type": "code",
   "execution_count": 102,
   "id": "14661902",
   "metadata": {},
   "outputs": [],
   "source": [
    "def add_time(start, duration, day=''):\n",
    "    \"\"\"\n",
    "    https://www.freecodecamp.org/learn/scientific-computing-with-python/scientific-computing-with-python-projects/time-calculator\n",
    "    \"\"\"\n",
    "    hours = int(start.split()[0].split(':')[0])\n",
    "    minutes = int(start.split()[0].split(':')[1])\n",
    "    period = start.split()[1]\n",
    "    \n",
    "    hours_to_add = int(duration.split(':')[0])\n",
    "    minutes_to_add = int(duration.split(':')[1])\n",
    "    days_later = 0\n",
    "    \n",
    "  \n",
    "    if minutes_to_add > 60 :\n",
    "        hours_to_add += minutes_to_add // 60\n",
    "        minutes_to_add = minutes_to_add % 60\n",
    "    \n",
    "    #if hours_to_add > 24 :\n",
    "        #days_later += hours_to_add // 24\n",
    "        #hours_to_add = hours_to_add % 24 #between 0 and 23\n",
    "    \n",
    "    \n",
    "    newMinutes = minutes + minutes_to_add\n",
    "     \n",
    "    \n",
    "    if newMinutes >= 60 :\n",
    "        hours_to_add += newMinutes // 60\n",
    "        newMinutes = newMinutes % 60 #found minutes\n",
    "        \n",
    "    newHours = hours + hours_to_add\n",
    "    \n",
    "    #found period (AM, PM)\n",
    "    period_before = period\n",
    "    newPeriod = period\n",
    "    for i in range(hours, newHours+1): #count number of transitions between AM and PM\n",
    "        if i%12==0 : \n",
    "            if period_before == 'AM' : \n",
    "                newPeriod = 'PM'\n",
    "            else: newPeriod = 'AM'\n",
    "            if period_before == 'PM' and newPeriod == 'AM' : \n",
    "                days_later += 1\n",
    "            period_before = newPeriod\n",
    "    \n",
    "    #found hours\n",
    "    while newHours >= 13 :\n",
    "        newHours -= 12\n",
    "        \n",
    "    days_later_str = ''\n",
    "    if days_later == 1 :\n",
    "        days_later_str = ' (next day)'\n",
    "    elif days_later > 1:\n",
    "        days_later_str = ' ('+ str(days_later) + ' days later)'\n",
    "    \n",
    "    if day :\n",
    "        days = ['Sunday', 'Monday', 'Tuesday', 'Wednesday', 'Thursday', 'Friday', 'Saturday']\n",
    "        newDayIndex = (days.index(day.title()) + days_later) % 7\n",
    "        newDay = days[newDayIndex]\n",
    "        days_later_str = ', '+ newDay + days_later_str\n",
    "        \n",
    "    return str(newHours) + ':' + str(newMinutes).zfill(2) +' ' + newPeriod + days_later_str"
   ]
  },
  {
   "cell_type": "code",
   "execution_count": 110,
   "id": "4b494e55",
   "metadata": {},
   "outputs": [
    {
     "name": "stdout",
     "output_type": "stream",
     "text": [
      "7:42 AM (9 days later)\n"
     ]
    }
   ],
   "source": [
    "print(add_time(\"6:30 PM\", \"205:12\"))"
   ]
  }
 ],
 "metadata": {
  "kernelspec": {
   "display_name": "Python 3",
   "language": "python",
   "name": "python3"
  },
  "language_info": {
   "codemirror_mode": {
    "name": "ipython",
    "version": 3
   },
   "file_extension": ".py",
   "mimetype": "text/x-python",
   "name": "python",
   "nbconvert_exporter": "python",
   "pygments_lexer": "ipython3",
   "version": "3.8.8"
  }
 },
 "nbformat": 4,
 "nbformat_minor": 5
}
