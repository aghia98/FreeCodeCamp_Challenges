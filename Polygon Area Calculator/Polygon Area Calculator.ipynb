{
 "cells": [
  {
   "cell_type": "code",
   "execution_count": 23,
   "id": "64c32b89",
   "metadata": {},
   "outputs": [],
   "source": [
    "class Rectangle :\n",
    "    def __init__(self, width, height):\n",
    "        self.height = height\n",
    "        self.width = width\n",
    "        \n",
    "    def __str__(self):\n",
    "        return 'Rectangle(width=' + str(self.width) + ', height=' + str(self.height) + ')'\n",
    "        \n",
    "    def set_height(self, height):\n",
    "        self.height = height\n",
    "        \n",
    "    def set_width(self, width):\n",
    "        self.width = width\n",
    "        \n",
    "    def get_area(self):\n",
    "        return self.width * self.height\n",
    "    \n",
    "    def get_perimeter(self):\n",
    "        return 2*(self.height + self.width)\n",
    "    \n",
    "    def get_diagonal(self):\n",
    "        return (self.width ** 2 + self.height ** 2) ** .5\n",
    "\n",
    "    def get_picture(self):\n",
    "        if self.height > 50 or self.width > 50:\n",
    "            return \"Too big for picture.\"\n",
    "        draw = ''\n",
    "        for _ in range(self.height):\n",
    "            draw = draw + '*' * self.width + '\\n'\n",
    "        return draw\n",
    "    \n",
    "    def get_amount_inside(self, shape):\n",
    "        return (self.width // shape.width) * (self.height // shape.height)\n",
    "        "
   ]
  },
  {
   "cell_type": "code",
   "execution_count": 24,
   "id": "8f439178",
   "metadata": {},
   "outputs": [],
   "source": [
    "class Square(Rectangle):\n",
    "    def __init__(self, side):\n",
    "        self.height = side\n",
    "        self.width = side\n",
    "        \n",
    "    def __str__(self):\n",
    "        return 'Square(side=' + str(self.width) + ')'\n",
    "    \n",
    "    def set_height(self, height):\n",
    "        self.height = height\n",
    "        self.width = height\n",
    "        \n",
    "    def set_width(self, width):\n",
    "        self.height = width\n",
    "        self.width = width\n",
    "        \n",
    "    def set_side(self, side):\n",
    "        self.height = side\n",
    "        self.width = side"
   ]
  }
 ],
 "metadata": {
  "kernelspec": {
   "display_name": "Python 3",
   "language": "python",
   "name": "python3"
  },
  "language_info": {
   "codemirror_mode": {
    "name": "ipython",
    "version": 3
   },
   "file_extension": ".py",
   "mimetype": "text/x-python",
   "name": "python",
   "nbconvert_exporter": "python",
   "pygments_lexer": "ipython3",
   "version": "3.8.8"
  }
 },
 "nbformat": 4,
 "nbformat_minor": 5
}
