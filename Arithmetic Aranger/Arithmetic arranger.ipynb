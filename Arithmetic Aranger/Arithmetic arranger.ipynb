{
 "cells": [
  {
   "cell_type": "code",
   "execution_count": 112,
   "id": "ddfa0c0d",
   "metadata": {},
   "outputs": [],
   "source": [
    "def arithmetic_arranger(problems, display_result = False):\n",
    "    \"\"\"\n",
    "    https://www.freecodecamp.org/learn/scientific-computing-with-python/scientific-computing-with-python-projects/arithmetic-formatter\n",
    "    \"\"\"\n",
    "    if(len(problems)>5): return  'Error: Too many problems.'\n",
    "    line1_tab = []\n",
    "    line2_tab = []\n",
    "    dash_tab = []\n",
    "    result_tab = []\n",
    "    for i in range(len(problems)):\n",
    "        problem = problems[i].split()\n",
    "\n",
    "        operation = problem[1]\n",
    "        if operation != '+' and operation != '-':\n",
    "            return \"Error: Operator must be '+' or '-'.\"\n",
    "        try :\n",
    "            operand1, lenOp1 = int(problem[0]), len(problem[0])\n",
    "            operand2, lenOp2 = int(problem[2]), len(problem[2])\n",
    "        except : \n",
    "            return 'Error: Numbers must only contain digits.'\n",
    "        \n",
    "        if lenOp1>4 or lenOp2>4:\n",
    "            return 'Error: Numbers cannot be more than four digits.'\n",
    "\n",
    "        result_string = ''\n",
    "        if(operation == '+'):\n",
    "            result_string = str(operand1 + operand2)\n",
    "        elif(operation == '-') :\n",
    "            result_string = str(operand1 - operand2)\n",
    "        \n",
    "\n",
    "        dash_size = max(lenOp1, lenOp2) + 2\n",
    "        dash = '-'*dash_size\n",
    "\n",
    "        line1_tab.append(' '*(dash_size-lenOp1)+problem[0])\n",
    "        line2_tab.append(operation+' '*(dash_size-lenOp2-1)+problem[2])\n",
    "        dash_tab.append(dash)\n",
    "        \n",
    "        if(display_result):\n",
    "            result_tab.append(' '*(dash_size-len(result_string))+result_string)\n",
    "        \n",
    "    line1 = '    '.join(line1_tab)\n",
    "    line2 = '    '.join(line2_tab)\n",
    "    line3 = '    '.join(dash_tab)\n",
    "    if(display_result):\n",
    "        line4 = '    '.join(result_tab)\n",
    "        return line1+'\\n'+line2+'\\n'+line3+'\\n'+line4\n",
    "    return line1+'\\n'+line2+'\\n'+line3\n",
    "    "
   ]
  },
  {
   "cell_type": "code",
   "execution_count": 113,
   "id": "2adc27d4",
   "metadata": {},
   "outputs": [
    {
     "name": "stdout",
     "output_type": "stream",
     "text": [
      "   32      3801      45      123\n",
      "+ 698    -    2    + 43    +  49\n",
      "-----    ------    ----    -----\n",
      "  730      3799      88      172\n"
     ]
    }
   ],
   "source": [
    "print(arithmetic_arranger([\"32 + 698\", \"3801 - 2\", \"45 + 43\", \"123 + 49\"], True))"
   ]
  },
  {
   "cell_type": "code",
   "execution_count": null,
   "id": "352b1294",
   "metadata": {},
   "outputs": [],
   "source": []
  },
  {
   "cell_type": "code",
   "execution_count": null,
   "id": "dbec263a",
   "metadata": {},
   "outputs": [],
   "source": []
  },
  {
   "cell_type": "code",
   "execution_count": null,
   "id": "ba8fb378",
   "metadata": {},
   "outputs": [],
   "source": []
  }
 ],
 "metadata": {
  "kernelspec": {
   "display_name": "Python 3",
   "language": "python",
   "name": "python3"
  },
  "language_info": {
   "codemirror_mode": {
    "name": "ipython",
    "version": 3
   },
   "file_extension": ".py",
   "mimetype": "text/x-python",
   "name": "python",
   "nbconvert_exporter": "python",
   "pygments_lexer": "ipython3",
   "version": "3.8.8"
  }
 },
 "nbformat": 4,
 "nbformat_minor": 5
}
